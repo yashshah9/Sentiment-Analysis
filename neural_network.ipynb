{
 "cells": [
  {
   "cell_type": "code",
   "execution_count": 3,
   "metadata": {},
   "outputs": [],
   "source": [
    "# Install required libraries\n",
    "# !pip install datasets transformers torch flask\n",
    "\n",
    "# Import necessary libraries\n",
    "import re\n",
    "import numpy as np\n",
    "from datasets import load_dataset\n",
    "from sklearn.model_selection import train_test_split\n",
    "from sklearn.feature_extraction.text import TfidfVectorizer\n",
    "from nltk.corpus import stopwords\n",
    "from nltk.tokenize import word_tokenize\n",
    "from nltk.stem import PorterStemmer\n",
    "\n",
    "# Load IMDb dataset\n",
    "dataset = load_dataset(\"imdb\")\n",
    "\n",
    "# Extract data\n",
    "X_train = dataset['train']['text']\n",
    "y_train = dataset['train']['label']\n",
    "X_test = dataset['test']['text']\n",
    "y_test = dataset['test']['label']\n",
    "\n",
    "# Preprocess text function\n",
    "def preprocess_text(text):\n",
    "    text = re.sub(r'<.*?>', ' ', text)  # Remove HTML tags\n",
    "    text = re.sub(r'\\W', ' ', text)  # Remove special characters\n",
    "    text = re.sub(r'\\s+', ' ', text)  # Remove extra spaces\n",
    "    tokens = word_tokenize(text)  # Tokenization\n",
    "    stop_words = set(stopwords.words('english'))  # Stopword removal\n",
    "    tokens = [word for word in tokens if word.lower() not in stop_words]\n",
    "    ps = PorterStemmer()\n",
    "    tokens = [ps.stem(word) for word in tokens]  # Stemming\n",
    "    return ' '.join(tokens)\n",
    "\n",
    "# Apply preprocessing\n",
    "X_train = [preprocess_text(review) for review in X_train]\n",
    "X_test = [preprocess_text(review) for review in X_test]\n",
    "\n",
    "# Convert text data into numerical form using TF-IDF\n",
    "vectorizer = TfidfVectorizer(max_features=5000)\n",
    "X_train_tfidf = vectorizer.fit_transform(X_train)\n",
    "X_test_tfidf = vectorizer.transform(X_test)\n"
   ]
  },
  {
   "cell_type": "code",
   "execution_count": 7,
   "metadata": {},
   "outputs": [
    {
     "name": "stdout",
     "output_type": "stream",
     "text": [
      "Neural Network Performance:\n",
      "Accuracy: 0.84044\n",
      "Precision: 0.8520142278104061\n",
      "Recall: 0.824\n",
      "F1-Score: 0.8377729879214283\n"
     ]
    }
   ],
   "source": [
    "from sklearn.neural_network import MLPClassifier\n",
    "from sklearn.metrics import accuracy_score, precision_score, recall_score, f1_score\n",
    "\n",
    "# Train Neural Network model\n",
    "model_nn = MLPClassifier(hidden_layer_sizes=(100,50), max_iter=300, activation='relu', solver='adam')\n",
    "model_nn.fit(X_train_tfidf, y_train)\n",
    "\n",
    "# Predictions and evaluation\n",
    "y_pred_nn = model_nn.predict(X_test_tfidf)\n",
    "accuracy = accuracy_score(y_test, y_pred_nn)\n",
    "precision = precision_score(y_test, y_pred_nn)\n",
    "recall = recall_score(y_test, y_pred_nn)\n",
    "f1 = f1_score(y_test, y_pred_nn)\n",
    "\n",
    "print(\"Neural Network Performance:\")\n",
    "print(f\"Accuracy: {accuracy}\")\n",
    "print(f\"Precision: {precision}\")\n",
    "print(f\"Recall: {recall}\")\n",
    "print(f\"F1-Score: {f1}\")\n"
   ]
  },
  {
   "cell_type": "code",
   "execution_count": 8,
   "metadata": {},
   "outputs": [
    {
     "data": {
      "text/plain": [
       "['model_nn.pkl']"
      ]
     },
     "execution_count": 8,
     "metadata": {},
     "output_type": "execute_result"
    }
   ],
   "source": [
    "import joblib\n",
    "\n",
    "# Save the Logistic Regression model and TF-IDF vectorizer\n",
    "joblib.dump(model_nn, 'model_nn.pkl')\n",
    "# joblib.dump(vectorizer, 'vectorizer.pkl')\n"
   ]
  }
 ],
 "metadata": {
  "kernelspec": {
   "display_name": "Python 3",
   "language": "python",
   "name": "python3"
  },
  "language_info": {
   "codemirror_mode": {
    "name": "ipython",
    "version": 3
   },
   "file_extension": ".py",
   "mimetype": "text/x-python",
   "name": "python",
   "nbconvert_exporter": "python",
   "pygments_lexer": "ipython3",
   "version": "3.12.5"
  }
 },
 "nbformat": 4,
 "nbformat_minor": 2
}
